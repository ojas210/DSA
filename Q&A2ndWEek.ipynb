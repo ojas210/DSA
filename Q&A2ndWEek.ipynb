{
 "cells": [
  {
   "cell_type": "markdown",
   "metadata": {},
   "source": [
    "## 1. Complete the following code to find the area of an equilateral triangle. Output should be as displayed"
   ]
  },
  {
   "cell_type": "code",
   "execution_count": 1,
   "metadata": {},
   "outputs": [
    {
     "name": "stdout",
     "output_type": "stream",
     "text": [
      "Enter the side of the equilateral triangle: 5\n",
      "Area =  10.825317547305483\n"
     ]
    }
   ],
   "source": [
    "import math\n",
    "side = float(input(\"Enter the side of the equilateral triangle: \"))\n",
    "area = ((math.sqrt(3))/4)*pow(side,2)\n",
    "print('Area = ', area)"
   ]
  },
  {
   "cell_type": "markdown",
   "metadata": {},
   "source": [
    "## 2. Write a program to count the number of each characters in a string"
   ]
  },
  {
   "cell_type": "code",
   "execution_count": 44,
   "metadata": {},
   "outputs": [
    {
     "name": "stdout",
     "output_type": "stream",
     "text": [
      "enter the string variable = mammoth\n",
      "the number of m is 3\n",
      "the number of a is 1\n",
      "the number of m is 3\n",
      "the number of m is 3\n",
      "the number of o is 1\n",
      "the number of t is 1\n",
      "the number of h is 1\n",
      "{'m': 3}\n",
      "{'a': 1}\n",
      "{'m': 3}\n",
      "{'m': 3}\n",
      "{'o': 1}\n",
      "{'t': 1}\n",
      "{'h': 1}\n"
     ]
    }
   ],
   "source": [
    "character=input('enter the string variable = ')\n",
    "l=list(character)\n",
    "b=len(character)\n",
    "a=0\n",
    "while (a < b) :\n",
    "    print('the number of', l[a] ,'is',character.count(l[a]))\n",
    "    a = a +1\n",
    "    \n",
    "for x in character :\n",
    "    out = {x : character.count(x)}\n",
    "    print(str(out))\n",
    "    \n",
    "    \n",
    "    "
   ]
  },
  {
   "cell_type": "markdown",
   "metadata": {},
   "source": [
    "## 3. Write a program to find the area and perimeter of a rectangle using functions"
   ]
  },
  {
   "cell_type": "code",
   "execution_count": 55,
   "metadata": {},
   "outputs": [
    {
     "name": "stdout",
     "output_type": "stream",
     "text": [
      "enter length :7\n",
      "enter breadth :8\n",
      "Area = 56.0\n",
      "Perimeter= 30.0\n"
     ]
    }
   ],
   "source": [
    "a= float(input('enter length :'))\n",
    "b= float(input('enter breadth :'))\n",
    "\n",
    "def rectangle(a,b) :\n",
    "    area= a*b\n",
    "    peri= 2*(a+b)\n",
    "    print('Area =', area)\n",
    "    print('Perimeter=', peri)\n",
    "    \n",
    "rectangle(a,b)\n"
   ]
  },
  {
   "cell_type": "markdown",
   "metadata": {},
   "source": [
    "## 4. Write a program to print the fibonacci series till a specified number"
   ]
  },
  {
   "cell_type": "code",
   "execution_count": 68,
   "metadata": {},
   "outputs": [
    {
     "name": "stdout",
     "output_type": "stream",
     "text": [
      "enter upper limit :10\n",
      "[0, 1, 1, 2, 3, 5, 8]\n"
     ]
    }
   ],
   "source": [
    "a=int(input('enter upper limit :'))\n",
    "l=[0,1]\n",
    "k=1\n",
    "while (a > l[-1]) :\n",
    "    l.append(l[-2]+l[-1])\n",
    "    k += 1\n",
    "\n",
    "    \n",
    "print(l[0:k])\n",
    "\n"
   ]
  },
  {
   "cell_type": "markdown",
   "metadata": {},
   "source": [
    "## 5. Complete the following code to find the minimum of 3 number using conditional statements. Output should be as displayed"
   ]
  },
  {
   "cell_type": "code",
   "execution_count": 10,
   "metadata": {},
   "outputs": [
    {
     "name": "stdout",
     "output_type": "stream",
     "text": [
      "Enter three numbers followed by  : 5 7 6\n",
      "First number : 5\n",
      "Second number : 7\n",
      "Third number : 6\n",
      "5  is smallest\n"
     ]
    }
   ],
   "source": [
    "a,b,c = input(\"Enter three numbers followed by  : \").split()\n",
    "\n",
    "print(\"First number :\",a)\n",
    "print(\"Second number :\",b)\n",
    "print(\"Third number :\",c)\n",
    "if (a==b==c) :\n",
    "    print(\"Entered numbers are equal!!!\")\n",
    "elif (a<b and a<c) :\n",
    "    print(a,\" is smallest\")\n",
    "elif (b<a and b<c) :\n",
    "    print(b,\" is smallest\")\n",
    "elif (c<b and c<a) :\n",
    "    print(c,\" is smallest\")"
   ]
  },
  {
   "cell_type": "raw",
   "metadata": {},
   "source": [
    "# 6. Write a program to print star pyramind. The number of rows should be taken as input from the user"
   ]
  },
  {
   "cell_type": "code",
   "execution_count": 44,
   "metadata": {},
   "outputs": [
    {
     "name": "stdout",
     "output_type": "stream",
     "text": [
      "enter rows:7\n",
      "* \n",
      "** \n",
      "*** \n",
      "**** \n",
      "***** \n",
      "****** \n",
      "******* \n"
     ]
    }
   ],
   "source": [
    "a= int(input(\"enter rows:\"))\n",
    "for i in range(0,a):\n",
    "    \n",
    "    for g in range(0, i+1):\n",
    "        print(\"*\", end =\"\")\n",
    "        \n",
    "    print(' ')\n",
    "            \n",
    "            \n",
    "    \n",
    "            "
   ]
  },
  {
   "cell_type": "markdown",
   "metadata": {},
   "source": [
    "## 7. Complete the following code to convert hour into seconds. Output should be as displayed"
   ]
  },
  {
   "cell_type": "code",
   "execution_count": 2,
   "metadata": {},
   "outputs": [
    {
     "name": "stdout",
     "output_type": "stream",
     "text": [
      "enter time in hours :5.5\n",
      "5.5  Hour is equal to 19800.0  Seconds\n"
     ]
    }
   ],
   "source": [
    "def to_seconds(t):\n",
    "    t=t*3600\n",
    "    return t\n",
    "time_in_hours = float(input('enter time in hours :'))\n",
    "print(time_in_hours ,\" Hour is equal to\" ,to_seconds(time_in_hours) ,\" Seconds\")"
   ]
  },
  {
   "cell_type": "markdown",
   "metadata": {},
   "source": [
    "## 8. Write a program to print multiplication table as below"
   ]
  },
  {
   "cell_type": "code",
   "execution_count": 74,
   "metadata": {},
   "outputs": [
    {
     "name": "stdout",
     "output_type": "stream",
     "text": [
      "Enter a number to find the multiplication table:42\n",
      "1 x 42 = 42\n",
      "2 x 42 = 84\n",
      "3 x 42 = 126\n",
      "4 x 42 = 168\n",
      "5 x 42 = 210\n",
      "6 x 42 = 252\n",
      "7 x 42 = 294\n",
      "8 x 42 = 336\n",
      "9 x 42 = 378\n",
      "10 x 42 = 420\n"
     ]
    }
   ],
   "source": [
    "a=int(input(\"Enter a number to find the multiplication table:\"))\n",
    "b=1\n",
    "while(b<=10):\n",
    "    print(b,'x', a,'=', b*a)\n",
    "    b +=1\n",
    "    \n",
    "    "
   ]
  },
  {
   "cell_type": "markdown",
   "metadata": {},
   "source": [
    "## 9. Write a program to take your 5 favorite food as list and print each as 'I like Biriyani'"
   ]
  },
  {
   "cell_type": "code",
   "execution_count": 93,
   "metadata": {},
   "outputs": [
    {
     "name": "stdout",
     "output_type": "stream",
     "text": [
      "enter favourite dishes :biryani\n",
      "enter favourite dishes :Panner\n",
      "enter favourite dishes :c.tikka masala\n",
      "enter favourite dishes :pizza\n",
      "enter favourite dishes :burger\n",
      "['biryani', 'Panner', 'c.tikka masala', 'pizza', 'burger']\n",
      "I like biryani\n",
      "I like Panner\n",
      "I like c.tikka masala\n",
      "I like pizza\n",
      "I like burger\n"
     ]
    }
   ],
   "source": [
    "b=0\n",
    "m=[1,2,3,4,5]\n",
    "while (b<5):\n",
    "    a=input('enter favourite dishes :')\n",
    "    m[b]=a\n",
    "    \n",
    "    b += 1\n",
    "print(m)\n",
    "for x in m :\n",
    "    print('I like', x)\n",
    "\n"
   ]
  }
 ],
 "metadata": {
  "kernelspec": {
   "display_name": "Python 3 (ipykernel)",
   "language": "python",
   "name": "python3"
  },
  "language_info": {
   "codemirror_mode": {
    "name": "ipython",
    "version": 3
   },
   "file_extension": ".py",
   "mimetype": "text/x-python",
   "name": "python",
   "nbconvert_exporter": "python",
   "pygments_lexer": "ipython3",
   "version": "3.9.7"
  }
 },
 "nbformat": 4,
 "nbformat_minor": 4
}
